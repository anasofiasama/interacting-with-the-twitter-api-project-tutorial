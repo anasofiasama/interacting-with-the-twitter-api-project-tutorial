{
 "cells": [
  {
   "cell_type": "code",
   "execution_count": 3,
   "metadata": {},
   "outputs": [
    {
     "name": "stdout",
     "output_type": "stream",
     "text": [
      "Requirement already satisfied: requests in /home/gitpod/.pyenv/versions/3.8.13/lib/python3.8/site-packages (2.27.1)\n",
      "Requirement already satisfied: idna<4,>=2.5 in /home/gitpod/.pyenv/versions/3.8.13/lib/python3.8/site-packages (from requests) (3.3)\n",
      "Requirement already satisfied: charset-normalizer~=2.0.0 in /home/gitpod/.pyenv/versions/3.8.13/lib/python3.8/site-packages (from requests) (2.0.12)\n",
      "Requirement already satisfied: urllib3<1.27,>=1.21.1 in /home/gitpod/.pyenv/versions/3.8.13/lib/python3.8/site-packages (from requests) (1.26.9)\n",
      "Requirement already satisfied: certifi>=2017.4.17 in /home/gitpod/.pyenv/versions/3.8.13/lib/python3.8/site-packages (from requests) (2022.5.18.1)\n",
      "\u001b[33mWARNING: There was an error checking the latest version of pip.\u001b[0m\u001b[33m\n",
      "\u001b[0m"
     ]
    },
    {
     "ename": "NameError",
     "evalue": "name 'bearer_token' is not defined",
     "output_type": "error",
     "traceback": [
      "\u001b[0;31m---------------------------------------------------------------------------\u001b[0m",
      "\u001b[0;31mNameError\u001b[0m                                 Traceback (most recent call last)",
      "\u001b[1;32m/workspace/interacting-with-the-twitter-api-project-tutorial/src/mysolution.ipynb Cell 1'\u001b[0m in \u001b[0;36m<cell line: 19>\u001b[0;34m()\u001b[0m\n\u001b[1;32m     <a href='vscode-notebook-cell://anasofiasam-interacting-mhdedizfa82.ws-us47.gitpod.io/workspace/interacting-with-the-twitter-api-project-tutorial/src/mysolution.ipynb#ch0000000vscode-remote?line=14'>15</a>\u001b[0m consumer_key \u001b[39m=\u001b[39m os\u001b[39m.\u001b[39menviron\u001b[39m.\u001b[39mget(\u001b[39m'\u001b[39m\u001b[39mCONSUMER_KEY\u001b[39m\u001b[39m'\u001b[39m)\n\u001b[1;32m     <a href='vscode-notebook-cell://anasofiasam-interacting-mhdedizfa82.ws-us47.gitpod.io/workspace/interacting-with-the-twitter-api-project-tutorial/src/mysolution.ipynb#ch0000000vscode-remote?line=16'>17</a>\u001b[0m \u001b[39m# Creamos cliente\u001b[39;00m\n\u001b[0;32m---> <a href='vscode-notebook-cell://anasofiasam-interacting-mhdedizfa82.ws-us47.gitpod.io/workspace/interacting-with-the-twitter-api-project-tutorial/src/mysolution.ipynb#ch0000000vscode-remote?line=18'>19</a>\u001b[0m client \u001b[39m=\u001b[39m tweepy\u001b[39m.\u001b[39mClient( bearer_token\u001b[39m=\u001b[39mbearer_token,\n\u001b[1;32m     <a href='vscode-notebook-cell://anasofiasam-interacting-mhdedizfa82.ws-us47.gitpod.io/workspace/interacting-with-the-twitter-api-project-tutorial/src/mysolution.ipynb#ch0000000vscode-remote?line=19'>20</a>\u001b[0m consumer_key\u001b[39m=\u001b[39mconsumer_key,\n\u001b[1;32m     <a href='vscode-notebook-cell://anasofiasam-interacting-mhdedizfa82.ws-us47.gitpod.io/workspace/interacting-with-the-twitter-api-project-tutorial/src/mysolution.ipynb#ch0000000vscode-remote?line=20'>21</a>\u001b[0m consumer_secret\u001b[39m=\u001b[39mconsumer_secret,\n\u001b[1;32m     <a href='vscode-notebook-cell://anasofiasam-interacting-mhdedizfa82.ws-us47.gitpod.io/workspace/interacting-with-the-twitter-api-project-tutorial/src/mysolution.ipynb#ch0000000vscode-remote?line=21'>22</a>\u001b[0m return_type \u001b[39m=\u001b[39m requests\u001b[39m.\u001b[39mResponse,\n\u001b[1;32m     <a href='vscode-notebook-cell://anasofiasam-interacting-mhdedizfa82.ws-us47.gitpod.io/workspace/interacting-with-the-twitter-api-project-tutorial/src/mysolution.ipynb#ch0000000vscode-remote?line=22'>23</a>\u001b[0m wait_on_rate_limit\u001b[39m=\u001b[39m\u001b[39mTrue\u001b[39;00m)\n\u001b[1;32m     <a href='vscode-notebook-cell://anasofiasam-interacting-mhdedizfa82.ws-us47.gitpod.io/workspace/interacting-with-the-twitter-api-project-tutorial/src/mysolution.ipynb#ch0000000vscode-remote?line=24'>25</a>\u001b[0m \u001b[39m# definiendo query para twiter\u001b[39;00m\n\u001b[1;32m     <a href='vscode-notebook-cell://anasofiasam-interacting-mhdedizfa82.ws-us47.gitpod.io/workspace/interacting-with-the-twitter-api-project-tutorial/src/mysolution.ipynb#ch0000000vscode-remote?line=25'>26</a>\u001b[0m query \u001b[39m=\u001b[39m \u001b[39m'\u001b[39m\u001b[39m#100daysofcode (pandas OR python) -is:retweet\u001b[39m\u001b[39m'\u001b[39m\n",
      "\u001b[0;31mNameError\u001b[0m: name 'bearer_token' is not defined"
     ]
    }
   ],
   "source": [
    "!pip install requests\n",
    "\n",
    "import os\n",
    "import pandas as pd\n",
    "import numpy as np\n",
    "import tweepy\n",
    "import requests\n",
    "\n",
    "from dotenv import load_dotenv\n",
    "\n",
    "# load the .env file variables\n",
    "load_dotenv()\n",
    "\n",
    "# your app code here\n",
    "consumer_key = os.environ.get('CONSUMER_KEY')\n",
    "\n",
    "# Creamos cliente\n",
    "### completar con datos\n",
    "client = tweepy.Client( bearer_token=bearer_token,\n",
    "consumer_key=consumer_key,\n",
    "consumer_secret=consumer_secret,\n",
    "return_type = requests.Response,\n",
    "wait_on_rate_limit=True)\n",
    "\n",
    "# definiendo query para twiter\n",
    "query = '#100daysofcode (pandas OR python) -is:retweet'\n",
    "\n",
    "tweets = client.search_recent_tweets(query=query,\n",
    "tweet_fields=['author_id','created_at','lang'],\n",
    "max_results=100)"
   ]
  },
  {
   "cell_type": "code",
   "execution_count": null,
   "metadata": {},
   "outputs": [],
   "source": [
    "tweets_dict = tweets.json()\n",
    "tweets_dict.keys() #data es la que nos interesa"
   ]
  },
  {
   "cell_type": "code",
   "execution_count": null,
   "metadata": {},
   "outputs": [],
   "source": [
    "tweets_data = tweets_dict['data']\n",
    "\n",
    "df = pd.json_normalize(tweets_data)"
   ]
  }
 ],
 "metadata": {
  "kernelspec": {
   "display_name": "Python 3.8.13 64-bit ('3.8.13')",
   "language": "python",
   "name": "python3"
  },
  "language_info": {
   "codemirror_mode": {
    "name": "ipython",
    "version": 3
   },
   "file_extension": ".py",
   "mimetype": "text/x-python",
   "name": "python",
   "nbconvert_exporter": "python",
   "pygments_lexer": "ipython3",
   "version": "3.8.13"
  },
  "orig_nbformat": 4,
  "vscode": {
   "interpreter": {
    "hash": "110cc1dee26208153f2972f08a2ad52b6a56238dc66d48e87fb757ef2996db56"
   }
  }
 },
 "nbformat": 4,
 "nbformat_minor": 2
}
