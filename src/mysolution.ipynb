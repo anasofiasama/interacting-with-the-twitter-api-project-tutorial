{
 "cells": [
  {
   "cell_type": "code",
   "execution_count": 9,
   "metadata": {},
   "outputs": [],
   "source": [
    "import os\n",
    "import pandas as pd\n",
    "import numpy as np\n",
    "import tweepy\n",
    "import requests\n",
    "import matplotlib.pyplot as plt\n",
    "import seaborn as sns\n",
    "\n",
    "from dotenv import load_dotenv"
   ]
  },
  {
   "cell_type": "code",
   "execution_count": 10,
   "metadata": {},
   "outputs": [],
   "source": [
    "\n",
    "# load the .env file variables\n",
    "load_dotenv()\n",
    "\n",
    "# your app code here\n",
    "consumer_key = os.environ.get('CONSUMER_KEY')\n",
    "consumer_secret = os.environ.get('CONSUMER_SECRET')\n",
    "bearer_token = os.environ.get('BEARER_TOKEN')"
   ]
  },
  {
   "cell_type": "code",
   "execution_count": 11,
   "metadata": {},
   "outputs": [],
   "source": [
    "# Creamos cliente\n",
    "client = tweepy.Client( bearer_token=bearer_token,\n",
    "consumer_key=consumer_key,\n",
    "consumer_secret=consumer_secret,\n",
    "return_type = requests.Response,\n",
    "wait_on_rate_limit=True)\n"
   ]
  },
  {
   "cell_type": "code",
   "execution_count": 12,
   "metadata": {},
   "outputs": [],
   "source": [
    "# definiendo query para twiter\n",
    "query = '#100daysofcode (pandas OR python) -is:retweet'\n"
   ]
  },
  {
   "cell_type": "code",
   "execution_count": 13,
   "metadata": {},
   "outputs": [],
   "source": [
    "tweets = client.search_recent_tweets(query=query,\n",
    "tweet_fields=['author_id','created_at','lang'],\n",
    "max_results=100)"
   ]
  },
  {
   "cell_type": "code",
   "execution_count": 14,
   "metadata": {},
   "outputs": [
    {
     "data": {
      "text/plain": [
       "dict_keys(['data', 'meta'])"
      ]
     },
     "execution_count": 14,
     "metadata": {},
     "output_type": "execute_result"
    }
   ],
   "source": [
    "# Save as dictionary\n",
    "tweets_dict = tweets.json()\n",
    "tweets_dict.keys()"
   ]
  },
  {
   "cell_type": "code",
   "execution_count": 15,
   "metadata": {},
   "outputs": [],
   "source": [
    "# Extract data\n",
    "tweets_data = tweets_dict['data']"
   ]
  },
  {
   "cell_type": "code",
   "execution_count": 16,
   "metadata": {},
   "outputs": [],
   "source": [
    "# Transform to pandas DF\n",
    "df = pd.json_normalize(tweets_data)"
   ]
  },
  {
   "cell_type": "code",
   "execution_count": 17,
   "metadata": {},
   "outputs": [
    {
     "data": {
      "text/html": [
       "<div>\n",
       "<style scoped>\n",
       "    .dataframe tbody tr th:only-of-type {\n",
       "        vertical-align: middle;\n",
       "    }\n",
       "\n",
       "    .dataframe tbody tr th {\n",
       "        vertical-align: top;\n",
       "    }\n",
       "\n",
       "    .dataframe thead th {\n",
       "        text-align: right;\n",
       "    }\n",
       "</style>\n",
       "<table border=\"1\" class=\"dataframe\">\n",
       "  <thead>\n",
       "    <tr style=\"text-align: right;\">\n",
       "      <th></th>\n",
       "      <th>created_at</th>\n",
       "      <th>id</th>\n",
       "      <th>lang</th>\n",
       "      <th>text</th>\n",
       "      <th>author_id</th>\n",
       "    </tr>\n",
       "  </thead>\n",
       "  <tbody>\n",
       "    <tr>\n",
       "      <th>0</th>\n",
       "      <td>2022-06-20T00:15:20.000Z</td>\n",
       "      <td>1538676839488577541</td>\n",
       "      <td>en</td>\n",
       "      <td>We offer Legit &amp;amp; Quality academic solution...</td>\n",
       "      <td>1319980675504742400</td>\n",
       "    </tr>\n",
       "    <tr>\n",
       "      <th>1</th>\n",
       "      <td>2022-06-20T00:13:57.000Z</td>\n",
       "      <td>1538676490283253760</td>\n",
       "      <td>en</td>\n",
       "      <td>We deliver unique work 🌸   \\n 🍁 DM for value-b...</td>\n",
       "      <td>1343372118</td>\n",
       "    </tr>\n",
       "    <tr>\n",
       "      <th>2</th>\n",
       "      <td>2022-06-20T00:12:10.000Z</td>\n",
       "      <td>1538676042943979520</td>\n",
       "      <td>und</td>\n",
       "      <td>😍https://t.co/lfwMhx56PH\\n\\n#US #Canada #UK #h...</td>\n",
       "      <td>1459057388237950981</td>\n",
       "    </tr>\n",
       "    <tr>\n",
       "      <th>3</th>\n",
       "      <td>2022-06-20T00:11:20.000Z</td>\n",
       "      <td>1538675833908482054</td>\n",
       "      <td>en</td>\n",
       "      <td>Hello, kindly send us details of your assignme...</td>\n",
       "      <td>1319980675504742400</td>\n",
       "    </tr>\n",
       "    <tr>\n",
       "      <th>4</th>\n",
       "      <td>2022-06-20T00:10:00.000Z</td>\n",
       "      <td>1538675496480808960</td>\n",
       "      <td>en</td>\n",
       "      <td>NEED a #JOB?\\nSign up now https://t.co/o7lVlsl...</td>\n",
       "      <td>1332714745871421443</td>\n",
       "    </tr>\n",
       "  </tbody>\n",
       "</table>\n",
       "</div>"
      ],
      "text/plain": [
       "                 created_at                   id lang  \\\n",
       "0  2022-06-20T00:15:20.000Z  1538676839488577541   en   \n",
       "1  2022-06-20T00:13:57.000Z  1538676490283253760   en   \n",
       "2  2022-06-20T00:12:10.000Z  1538676042943979520  und   \n",
       "3  2022-06-20T00:11:20.000Z  1538675833908482054   en   \n",
       "4  2022-06-20T00:10:00.000Z  1538675496480808960   en   \n",
       "\n",
       "                                                text            author_id  \n",
       "0  We offer Legit &amp; Quality academic solution...  1319980675504742400  \n",
       "1  We deliver unique work 🌸   \\n 🍁 DM for value-b...           1343372118  \n",
       "2  😍https://t.co/lfwMhx56PH\\n\\n#US #Canada #UK #h...  1459057388237950981  \n",
       "3  Hello, kindly send us details of your assignme...  1319980675504742400  \n",
       "4  NEED a #JOB?\\nSign up now https://t.co/o7lVlsl...  1332714745871421443  "
      ]
     },
     "execution_count": 17,
     "metadata": {},
     "output_type": "execute_result"
    }
   ],
   "source": [
    "df.head()"
   ]
  },
  {
   "cell_type": "code",
   "execution_count": 18,
   "metadata": {},
   "outputs": [],
   "source": [
    "df.to_csv('coding-tweets.csv')"
   ]
  },
  {
   "cell_type": "markdown",
   "metadata": {},
   "source": [
    "### Search for the words"
   ]
  },
  {
   "cell_type": "code",
   "execution_count": 19,
   "metadata": {},
   "outputs": [],
   "source": [
    "import re"
   ]
  },
  {
   "cell_type": "code",
   "execution_count": 20,
   "metadata": {},
   "outputs": [],
   "source": [
    "def word_in_text(word,tweet):\n",
    "    t=tweet\n",
    "    t=t.lower()\n",
    "    w=re.compile(word)\n",
    "    if w.search(t) is not None :\n",
    "        return('Si')\n",
    "    else :\n",
    "            return('No')"
   ]
  },
  {
   "cell_type": "code",
   "execution_count": 25,
   "metadata": {},
   "outputs": [
    {
     "data": {
      "text/plain": [
       "'Si'"
      ]
     },
     "execution_count": 25,
     "metadata": {},
     "output_type": "execute_result"
    }
   ],
   "source": [
    "#testing the function\n",
    "word_in_text('pandas','the best lenguage is Pandas')"
   ]
  },
  {
   "cell_type": "code",
   "execution_count": 22,
   "metadata": {},
   "outputs": [
    {
     "name": "stdout",
     "output_type": "stream",
     "text": [
      "Python 99 // Pandas 0\n"
     ]
    }
   ],
   "source": [
    "n_py=0\n",
    "n_pd=0\n",
    "\n",
    "for lab,row in df.iterrows():\n",
    "    if word_in_text('python',row['text']) == 'Si' :\n",
    "        n_py+=1\n",
    "    if word_in_text('pandas',row['text']) == 'Si' :\n",
    "        n_pd+=1\n",
    "    \n",
    "print (f'Python {n_py} // Pandas {n_pd}')"
   ]
  },
  {
   "cell_type": "code",
   "execution_count": 23,
   "metadata": {},
   "outputs": [
    {
     "name": "stderr",
     "output_type": "stream",
     "text": [
      "/home/gitpod/.pyenv/versions/3.8.13/lib/python3.8/site-packages/seaborn/_decorators.py:36: FutureWarning: Pass the following variables as keyword args: x, y. From version 0.12, the only valid positional argument will be `data`, and passing other arguments without an explicit keyword will result in an error or misinterpretation.\n",
      "  warnings.warn(\n"
     ]
    },
    {
     "data": {
      "image/png": "[encoded data removed]",
      "text/plain": [
       "<Figure size 432x288 with 1 Axes>"
      ]
     },
     "metadata": {
      "needs_background": "light"
     },
     "output_type": "display_data"
    }
   ],
   "source": [
    "sns.set_theme(style=\"ticks\", color_codes=True)\n",
    "\n",
    "cd=['Python','Pandas']\n",
    "\n",
    "ax = sns.barplot(cd,[n_py,n_pd])\n",
    "ax.set(ylabel='Count',title='Python and pandas tweets')\n",
    "plt.show()"
   ]
  }
 ],
 "metadata": {
  "kernelspec": {
   "display_name": "Python 3.8.13 64-bit ('3.8.13')",
   "language": "python",
   "name": "python3"
  },
  "language_info": {
   "codemirror_mode": {
    "name": "ipython",
    "version": 3
   },
   "file_extension": ".py",
   "mimetype": "text/x-python",
   "name": "python",
   "nbconvert_exporter": "python",
   "pygments_lexer": "ipython3",
   "version": "3.8.13"
  },
  "orig_nbformat": 4,
  "vscode": {
   "interpreter": {
    "hash": "110cc1dee26208153f2972f08a2ad52b6a56238dc66d48e87fb757ef2996db56"
   }
  }
 },
 "nbformat": 4,
 "nbformat_minor": 2
}
