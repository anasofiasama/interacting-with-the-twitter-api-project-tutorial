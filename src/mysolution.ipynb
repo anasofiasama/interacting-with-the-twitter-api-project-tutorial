{
 "cells": [
  {
   "cell_type": "code",
   "execution_count": 45,
   "metadata": {},
   "outputs": [],
   "source": [
    "import os\n",
    "import pandas as pd\n",
    "import numpy as np\n",
    "import tweepy\n",
    "import requests\n",
    "import matplotlib.pyplot as plt\n",
    "import seaborn as sns\n",
    "\n",
    "from dotenv import load_dotenv"
   ]
  },
  {
   "cell_type": "code",
   "execution_count": 2,
   "metadata": {},
   "outputs": [],
   "source": [
    "\n",
    "# load the .env file variables\n",
    "load_dotenv()\n",
    "\n",
    "# your app code here\n",
    "consumer_key = os.environ.get('CONSUMER_KEY')\n",
    "consumer_secret = os.environ.get('CONSUMER_SECRET')\n",
    "bearer_token = os.environ.get('BEARER_TOKEN')"
   ]
  },
  {
   "cell_type": "code",
   "execution_count": 3,
   "metadata": {},
   "outputs": [],
   "source": [
    "# Creamos cliente\n",
    "### completar con datos\n",
    "client = tweepy.Client( bearer_token=bearer_token,\n",
    "consumer_key=consumer_key,\n",
    "consumer_secret=consumer_secret,\n",
    "return_type = requests.Response,\n",
    "wait_on_rate_limit=True)\n"
   ]
  },
  {
   "cell_type": "code",
   "execution_count": 4,
   "metadata": {},
   "outputs": [],
   "source": [
    "# definiendo query para twiter\n",
    "query = '#100daysofcode (pandas OR python) -is:retweet'\n"
   ]
  },
  {
   "cell_type": "code",
   "execution_count": 5,
   "metadata": {},
   "outputs": [],
   "source": [
    "tweets = client.search_recent_tweets(query=query,\n",
    "tweet_fields=['author_id','created_at','lang'],\n",
    "max_results=100)"
   ]
  },
  {
   "cell_type": "code",
   "execution_count": 6,
   "metadata": {},
   "outputs": [
    {
     "data": {
      "text/plain": [
       "dict_keys(['data', 'meta'])"
      ]
     },
     "execution_count": 6,
     "metadata": {},
     "output_type": "execute_result"
    }
   ],
   "source": [
    "# Save as dictionary\n",
    "tweets_dict = tweets.json()\n",
    "tweets_dict.keys()"
   ]
  },
  {
   "cell_type": "code",
   "execution_count": null,
   "metadata": {},
   "outputs": [],
   "source": [
    "# Extract data\n",
    "tweets_data = tweets_dict['data']"
   ]
  },
  {
   "cell_type": "code",
   "execution_count": 7,
   "metadata": {},
   "outputs": [],
   "source": [
    "# Transform to pandas DF\n",
    "df = pd.json_normalize(tweets_data)"
   ]
  },
  {
   "cell_type": "code",
   "execution_count": 11,
   "metadata": {},
   "outputs": [
    {
     "data": {
      "text/html": [
       "<div>\n",
       "<style scoped>\n",
       "    .dataframe tbody tr th:only-of-type {\n",
       "        vertical-align: middle;\n",
       "    }\n",
       "\n",
       "    .dataframe tbody tr th {\n",
       "        vertical-align: top;\n",
       "    }\n",
       "\n",
       "    .dataframe thead th {\n",
       "        text-align: right;\n",
       "    }\n",
       "</style>\n",
       "<table border=\"1\" class=\"dataframe\">\n",
       "  <thead>\n",
       "    <tr style=\"text-align: right;\">\n",
       "      <th></th>\n",
       "      <th>author_id</th>\n",
       "      <th>id</th>\n",
       "      <th>text</th>\n",
       "      <th>lang</th>\n",
       "      <th>created_at</th>\n",
       "    </tr>\n",
       "  </thead>\n",
       "  <tbody>\n",
       "    <tr>\n",
       "      <th>0</th>\n",
       "      <td>741220945</td>\n",
       "      <td>1537975553759641600</td>\n",
       "      <td>Day 6⃣1⃣: #100DaysOfCode \\nDay 1⃣7⃣ : #66DaysO...</td>\n",
       "      <td>en</td>\n",
       "      <td>2022-06-18T01:48:40.000Z</td>\n",
       "    </tr>\n",
       "    <tr>\n",
       "      <th>1</th>\n",
       "      <td>1529052664251678721</td>\n",
       "      <td>1537975142059343873</td>\n",
       "      <td>A complete overview on #python lists!\\nLet me ...</td>\n",
       "      <td>en</td>\n",
       "      <td>2022-06-18T01:47:02.000Z</td>\n",
       "    </tr>\n",
       "    <tr>\n",
       "      <th>2</th>\n",
       "      <td>1405576080388505604</td>\n",
       "      <td>1537974185540014083</td>\n",
       "      <td>Dm for assistance in any paperwork. I got it c...</td>\n",
       "      <td>en</td>\n",
       "      <td>2022-06-18T01:43:14.000Z</td>\n",
       "    </tr>\n",
       "    <tr>\n",
       "      <th>3</th>\n",
       "      <td>1390551500133261316</td>\n",
       "      <td>1537973640137846784</td>\n",
       "      <td>What's your Tech Stack?\\n\\n#100DaysOfCode #Sof...</td>\n",
       "      <td>en</td>\n",
       "      <td>2022-06-18T01:41:04.000Z</td>\n",
       "    </tr>\n",
       "    <tr>\n",
       "      <th>4</th>\n",
       "      <td>1243665419501744133</td>\n",
       "      <td>1537973426207346688</td>\n",
       "      <td>\"If you build the guts to do something, anythi...</td>\n",
       "      <td>en</td>\n",
       "      <td>2022-06-18T01:40:13.000Z</td>\n",
       "    </tr>\n",
       "  </tbody>\n",
       "</table>\n",
       "</div>"
      ],
      "text/plain": [
       "             author_id                   id  \\\n",
       "0            741220945  1537975553759641600   \n",
       "1  1529052664251678721  1537975142059343873   \n",
       "2  1405576080388505604  1537974185540014083   \n",
       "3  1390551500133261316  1537973640137846784   \n",
       "4  1243665419501744133  1537973426207346688   \n",
       "\n",
       "                                                text lang  \\\n",
       "0  Day 6⃣1⃣: #100DaysOfCode \\nDay 1⃣7⃣ : #66DaysO...   en   \n",
       "1  A complete overview on #python lists!\\nLet me ...   en   \n",
       "2  Dm for assistance in any paperwork. I got it c...   en   \n",
       "3  What's your Tech Stack?\\n\\n#100DaysOfCode #Sof...   en   \n",
       "4  \"If you build the guts to do something, anythi...   en   \n",
       "\n",
       "                 created_at  \n",
       "0  2022-06-18T01:48:40.000Z  \n",
       "1  2022-06-18T01:47:02.000Z  \n",
       "2  2022-06-18T01:43:14.000Z  \n",
       "3  2022-06-18T01:41:04.000Z  \n",
       "4  2022-06-18T01:40:13.000Z  "
      ]
     },
     "execution_count": 11,
     "metadata": {},
     "output_type": "execute_result"
    }
   ],
   "source": [
    "df.head()"
   ]
  },
  {
   "cell_type": "code",
   "execution_count": 12,
   "metadata": {},
   "outputs": [],
   "source": [
    "df.to_csv('coding-tweets.csv')"
   ]
  },
  {
   "cell_type": "markdown",
   "metadata": {},
   "source": [
    "### Search for the words"
   ]
  },
  {
   "cell_type": "code",
   "execution_count": 13,
   "metadata": {},
   "outputs": [],
   "source": [
    "import re"
   ]
  },
  {
   "cell_type": "code",
   "execution_count": 33,
   "metadata": {},
   "outputs": [],
   "source": [
    "def word_in_text(word,tweet):\n",
    "    t=tweet\n",
    "    t=t.lower()\n",
    "    w=re.compile(word)\n",
    "    if w.search(t) is not None :\n",
    "        return('Si')\n",
    "    else :\n",
    "            return('No')"
   ]
  },
  {
   "cell_type": "code",
   "execution_count": 34,
   "metadata": {},
   "outputs": [
    {
     "data": {
      "text/plain": [
       "'Si'"
      ]
     },
     "execution_count": 34,
     "metadata": {},
     "output_type": "execute_result"
    }
   ],
   "source": [
    "#testing the function\n",
    "word_in_text('python','the best lenguage is Python')"
   ]
  },
  {
   "cell_type": "code",
   "execution_count": 43,
   "metadata": {},
   "outputs": [
    {
     "name": "stdout",
     "output_type": "stream",
     "text": [
      "Python 99 // Pandas 1\n"
     ]
    }
   ],
   "source": [
    "n_py=0\n",
    "n_pd=0\n",
    "\n",
    "for lab,row in df.iterrows():\n",
    "    if word_in_text('python',row['text']) == 'Si' :\n",
    "        n_py+=1\n",
    "    if word_in_text('pandas',row['text']) == 'Si' :\n",
    "        n_pd+=1\n",
    "    \n",
    "print (f'Python {n_py} // Pandas {n_pd}')"
   ]
  },
  {
   "cell_type": "code",
   "execution_count": 54,
   "metadata": {},
   "outputs": [
    {
     "name": "stderr",
     "output_type": "stream",
     "text": [
      "/home/gitpod/.pyenv/versions/3.8.13/lib/python3.8/site-packages/seaborn/_decorators.py:36: FutureWarning: Pass the following variables as keyword args: x, y. From version 0.12, the only valid positional argument will be `data`, and passing other arguments without an explicit keyword will result in an error or misinterpretation.\n",
      "  warnings.warn(\n"
     ]
    },
    {
     "data": {
      "image/png": "[encoded data removed]",
      "text/plain": [
       "<Figure size 432x288 with 1 Axes>"
      ]
     },
     "metadata": {},
     "output_type": "display_data"
    }
   ],
   "source": [
    "sns.set_theme(style=\"ticks\", color_codes=True)\n",
    "\n",
    "cd=['Python','Pandas']\n",
    "\n",
    "ax = sns.barplot(cd,[n_py,n_pd])\n",
    "ax.set(ylabel='Count',title='Python and pandas tweets')\n",
    "plt.show()"
   ]
  }
 ],
 "metadata": {
  "kernelspec": {
   "display_name": "Python 3.8.13 64-bit ('3.8.13')",
   "language": "python",
   "name": "python3"
  },
  "language_info": {
   "codemirror_mode": {
    "name": "ipython",
    "version": 3
   },
   "file_extension": ".py",
   "mimetype": "text/x-python",
   "name": "python",
   "nbconvert_exporter": "python",
   "pygments_lexer": "ipython3",
   "version": "3.8.13"
  },
  "orig_nbformat": 4,
  "vscode": {
   "interpreter": {
    "hash": "110cc1dee26208153f2972f08a2ad52b6a56238dc66d48e87fb757ef2996db56"
   }
  }
 },
 "nbformat": 4,
 "nbformat_minor": 2
}
